{
 "cells": [
  {
   "cell_type": "markdown",
   "metadata": {},
   "source": [
    "# Trees"
   ]
  },
  {
   "cell_type": "code",
   "execution_count": 21,
   "metadata": {
    "collapsed": true
   },
   "outputs": [],
   "source": [
    "class Node:\n",
    "    def __init__(self, val):\n",
    "        self.left = None\n",
    "        self.right = None\n",
    "        self.val = val"
   ]
  },
  {
   "cell_type": "code",
   "execution_count": 25,
   "metadata": {
    "collapsed": true
   },
   "outputs": [],
   "source": [
    "import random\n",
    "\n",
    "def r():\n",
    "    return random.randint(0,20)\n",
    "\n",
    "# Establish the initial root node and children\n",
    "root = Node(r())\n",
    "root.left = Node(r())\n",
    "root.right = Node(r())\n",
    "\n",
    "# Add the appropriate children for ‘B’ and ‘C’\n",
    "root.left.left = Node(r())\n",
    "root.left.right = Node(r())\n",
    "root.right.left = Node(r())\n",
    "root.right.right = Node(r())\n",
    "\n",
    "root.left.left.left = Node(r())\n",
    "root.left.left.right = Node(r())\n",
    "root.left.right.left = Node(r())\n",
    "root.left.right.right = Node(r())\n",
    "\n",
    "root.right.left.left = Node(r())\n",
    "root.right.left.right = Node(r())\n",
    "root.right.right.left = Node(r())\n",
    "root.right.right.right = Node(r())"
   ]
  },
  {
   "cell_type": "markdown",
   "metadata": {},
   "source": [
    "### Defining Each Leaf as a List\n",
    "This approach defines h,i,j,k,l,m and o as the leaves (i.e. childless nodes) of the tree. The tree has 15 nodes, from a to o, with each node having at most two children, until the 4th level where all nodes are childless.\n",
    "\n",
    "Top - 2nd level:<br />\n",
    "a -> b, c<br />\n",
    "\n",
    "2nd - 3rd level:<br />\n",
    "b -> d, e<br />\n",
    "c -> f, g<br />\n",
    "\n",
    "3rd - 4th level:<br />\n",
    "d -> h, i<br />\n",
    "e -> j, k<br />\n",
    "f -> l, m<br />\n",
    "g -> n, o"
   ]
  },
  {
   "cell_type": "code",
   "execution_count": 26,
   "metadata": {},
   "outputs": [
    {
     "name": "stdout",
     "output_type": "stream",
     "text": [
      "h = [17, 2, 20, 8]\n",
      "i = [17, 2, 20, 17]\n",
      "j = [17, 2, 3, 11]\n",
      "k = [17, 2, 3, 11]\n",
      "l = [17, 17, 4, 4]\n",
      "m = [17, 17, 4, 15]\n",
      "n = [17, 17, 15, 3]\n",
      "o = [17, 17, 15, 17]\n"
     ]
    }
   ],
   "source": [
    "a0 = [root.val]\n",
    "if root.left:\n",
    "#    print('Yes')\n",
    "    a1 = a0 + [root.left.val]\n",
    "    if root.left.left:\n",
    "#        print('Yes')\n",
    "        a2 = a1 + [root.left.left.val]\n",
    "        if root.left.left.left:\n",
    "            h = a2 + [root.left.left.left.val]\n",
    "        if root.left.left.right:\n",
    "            i = a2 + [root.left.left.right.val]\n",
    "    if root.left.right:\n",
    "        c1 = a1 + [root.left.right.val]\n",
    "        if root.left.right.left:\n",
    "            j = c1 + [root.left.right.left.val]\n",
    "        if root.left.right.right:\n",
    "            k = c1 + [root.left.right.right.val]        \n",
    "if root.right:\n",
    "    h1 = a0 + [root.right.val]\n",
    "    if root.right.left:\n",
    "        e2 = h1 + [root.right.left.val]\n",
    "        if root.right.left.left:\n",
    "            l = e2 + [root.right.left.left.val]\n",
    "        if root.right.left.right:\n",
    "            m = e2 + [root.right.left.right.val]    \n",
    "    if root.right.right:\n",
    "        h2 = h1 + [root.right.right.val]\n",
    "        if root.right.right.right:\n",
    "            o = h2 + [root.right.right.right.val]\n",
    "        if root.right.right.left:\n",
    "            n = h2 + [root.right.right.left.val]\n",
    "final_rels = [h,i,j,k,l,m,n,o]\n",
    "rel_names = ['h','i','j','k','l','m','n','o']\n",
    "for value, name in zip(final_rels, rel_names):\n",
    "    print(str(name) + ' = ' + str(value))"
   ]
  },
  {
   "cell_type": "markdown",
   "metadata": {},
   "source": [
    "### Returning Only The Values of Each Node\n",
    "Here we do not show the path taken to reach each leaf. Because of that, the overall layout of the tree has to be well defined.\n",
    "\n",
    "Top - 2nd level:<br />\n",
    "a -> b, c<br />\n",
    "\n",
    "2nd - 3rd level:<br />\n",
    "b -> d, e<br />\n",
    "c -> f, g<br />\n",
    "\n",
    "3rd - 4th level:<br />\n",
    "d -> h, i<br />\n",
    "e -> j, k<br />\n",
    "f -> l, m<br />\n",
    "g -> n, o"
   ]
  },
  {
   "cell_type": "code",
   "execution_count": 24,
   "metadata": {},
   "outputs": [
    {
     "name": "stdout",
     "output_type": "stream",
     "text": [
      "a = 1\n",
      "b = 1\n",
      "c = 6\n",
      "d = 4\n",
      "e = 12\n",
      "f = 5\n",
      "g = 18\n",
      "h = 9\n",
      "i = 17\n",
      "j = 12\n",
      "k = 8\n",
      "l = 11\n",
      "m = 19\n",
      "n = 1\n",
      "o = 0\n"
     ]
    }
   ],
   "source": [
    "a = root.val\n",
    "if root.left:\n",
    "    b = root.left.val\n",
    "    if root.left.left:\n",
    "        d = root.left.left.val\n",
    "        if root.left.left.left:\n",
    "            h = root.left.left.left.val\n",
    "        if root.left.left.right:\n",
    "            i = root.left.left.right.val\n",
    "    if root.left.right:\n",
    "        e = root.left.right.val\n",
    "        if root.left.right.left:\n",
    "            j = root.left.right.left.val\n",
    "        if root.left.right.right:\n",
    "            k = root.left.right.right.val\n",
    "        \n",
    "if root.right:\n",
    "    c = root.right.val\n",
    "    if root.right.left:\n",
    "        f = root.right.left.val\n",
    "        if root.right.left.left:\n",
    "            l = root.right.left.left.val\n",
    "        if root.right.left.right:\n",
    "            m = root.right.left.right.val   \n",
    "    if root.right.right:\n",
    "        g = root.right.right.val\n",
    "        if root.right.right.right:\n",
    "            o = root.right.right.right.val\n",
    "        if root.right.right.left:\n",
    "            n = root.right.right.left.val\n",
    "final_rels = [a,b,c,d,e,f,g,h,i,j,k,l,m,n,o]\n",
    "rel_labels = ['a','b','c','d','e','f','g','h','i','j','k','l','m','n','o']\n",
    "for value, name in zip(final_rels, rel_labels):\n",
    "    print(name + ' = ' + str(value))"
   ]
  },
  {
   "cell_type": "code",
   "execution_count": null,
   "metadata": {
    "collapsed": true
   },
   "outputs": [],
   "source": []
  }
 ],
 "metadata": {
  "kernelspec": {
   "display_name": "Python 3",
   "language": "python",
   "name": "python3"
  },
  "language_info": {
   "codemirror_mode": {
    "name": "ipython",
    "version": 3
   },
   "file_extension": ".py",
   "mimetype": "text/x-python",
   "name": "python",
   "nbconvert_exporter": "python",
   "pygments_lexer": "ipython3",
   "version": "3.6.2"
  }
 },
 "nbformat": 4,
 "nbformat_minor": 2
}
